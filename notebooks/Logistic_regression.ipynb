{
 "cells": [
  {
   "cell_type": "code",
   "execution_count": 1,
   "metadata": {
    "colab": {},
    "colab_type": "code",
    "id": "AxlfcRzyNDG7"
   },
   "outputs": [],
   "source": [
    "import warnings\n",
    "import sys\n",
    "warnings.simplefilter('ignore')\n",
    "\n",
    "%matplotlib inline\n",
    "import matplotlib.pyplot as plt\n",
    "import numpy as np\n",
    "import pandas as pd\n",
    "from sklearn.model_selection import train_test_split\n",
    "from sklearn.preprocessing import StandardScaler\n",
    "from sklearn.linear_model import LinearRegression\n",
    "from sklearn.linear_model import LogisticRegression\n",
    "from sklearn.metrics import mean_squared_error"
   ]
  },
  {
   "cell_type": "code",
   "execution_count": 2,
   "metadata": {
    "colab": {
     "base_uri": "https://localhost:8080/",
     "height": 224
    },
    "colab_type": "code",
    "id": "OE3JeLBeNDHA",
    "outputId": "b0f067a5-3ffa-4695-a8e9-9a92946eb045",
    "scrolled": true
   },
   "outputs": [],
   "source": [
    "# read in files as dfs\n",
    "mpls_df = pd.read_csv('resources/mpls_solar_weather.csv')\n",
    "olg_df = pd.read_csv('resources/olg_solar_weather.csv')\n"
   ]
  },
  {
   "cell_type": "code",
   "execution_count": null,
   "metadata": {
    "colab": {
     "base_uri": "https://localhost:8080/",
     "height": 863
    },
    "colab_type": "code",
    "id": "yW6M7mZsNDHR",
    "outputId": "70296903-be72-4f41-bad9-ea14d025c08e"
   },
   "outputs": [
    {
     "name": "stdout",
     "output_type": "stream",
     "text": [
      "mpls skip date_time in j dimension date_time\n"
     ]
    }
   ],
   "source": [
    "# dict of solar datasets to loop over\n",
    "dfs_dict = {'mpls': mpls_df, 'olg': olg_df}\n",
    "\n",
    "for key in dfs_dict:\n",
    "    col = dfs_dict[key].columns\n",
    "    for i in col:\n",
    "        try:\n",
    "            for j in col:\n",
    "                try:\n",
    "                    current = i\n",
    "                    newlist = j\n",
    "                    X = dfs_dict[key][newlist].values.reshape(-1,1)\n",
    "                    y = dfs_dict[key][current].values.reshape(-1,1)\n",
    "                    X_train, X_test, y_train, y_test = train_test_split(X, y, random_state=42)\n",
    "                    model = LogisticRegression(solver='lbfgs', multi_class='multinomial')\n",
    "                    model.fit(X_train, y_train)\n",
    "                    print(f\"{current}, {newlist} train: {model.score(X_train, y_train)}, test: {model.score(X_test, y_test)}\")\n",
    "                except ValueError:\n",
    "                    print(f\"{key} skip {i} in j dimension {j}\")\n",
    "        except ValueError:\n",
    "            print(f\"{key} skip in i dimension {i}\")"
   ]
  }
 ],
 "metadata": {
  "colab": {
   "collapsed_sections": [],
   "name": "Linear_loop.ipynb",
   "provenance": []
  },
  "kernelspec": {
   "display_name": "Python 3",
   "language": "python",
   "name": "python3"
  },
  "language_info": {
   "codemirror_mode": {
    "name": "ipython",
    "version": 3
   },
   "file_extension": ".py",
   "mimetype": "text/x-python",
   "name": "python",
   "nbconvert_exporter": "python",
   "pygments_lexer": "ipython3",
   "version": "3.7.3"
  }
 },
 "nbformat": 4,
 "nbformat_minor": 1
}
