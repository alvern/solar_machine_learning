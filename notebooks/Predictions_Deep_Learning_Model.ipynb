{
 "cells": [
  {
   "cell_type": "markdown",
   "metadata": {},
   "source": [
    "# Predictions from new data\n",
    "---"
   ]
  },
  {
   "cell_type": "code",
   "execution_count": 1,
   "metadata": {},
   "outputs": [
    {
     "name": "stderr",
     "output_type": "stream",
     "text": [
      "Using TensorFlow backend.\n"
     ]
    }
   ],
   "source": [
    "# ignore warnings\n",
    "import warnings\n",
    "warnings.filterwarnings(\"ignore\")\n",
    "\n",
    "# pandas, numpy, matplotlib\n",
    "import pandas as pd\n",
    "import numpy as np\n",
    "import matplotlib.pyplot as plt\n",
    "%matplotlib inline\n",
    "\n",
    "# Keras\n",
    "from keras.models import Sequential, load_model\n",
    "from keras.layers import Dense\n",
    "from keras.wrappers.scikit_learn import KerasRegressor\n",
    "\n",
    "# sci-kit learn\n",
    "from sklearn.preprocessing import StandardScaler\n",
    "from sklearn.pipeline import Pipeline\n",
    "from sklearn.externals import joblib"
   ]
  },
  {
   "cell_type": "markdown",
   "metadata": {},
   "source": [
    "## Data Setup"
   ]
  },
  {
   "cell_type": "code",
   "execution_count": 9,
   "metadata": {},
   "outputs": [],
   "source": [
    "# get weather data\n",
    "weather_data = pd.read_csv('resources/weather_forcast_5day.csv')\n",
    "\n",
    "# add in column for daylight (seconds)   'dl_sec'\n",
    "weather_data['dl_sec'] = 43200   # temporary value (12 hours)    FIX THIS!!\n",
    "\n",
    "# relevant columns\n",
    "features = [\n",
    "    'clouds_all', 'temp_f', 'pressure', 'humidity', 'wind_speed', 'wind_deg', 'hour', 'day_of_year',\n",
    "    'month', 'sin_day', 'cos_day', 'sin_hour', 'cos_hour', 'sin_month', 'cos_month', 'dl_sec'\n",
    "]\n",
    "\n",
    "# set parameters to test\n",
    "forcast_data = weather_data[features].copy()"
   ]
  },
  {
   "cell_type": "markdown",
   "metadata": {},
   "source": [
    "## Model"
   ]
  },
  {
   "cell_type": "code",
   "execution_count": 10,
   "metadata": {},
   "outputs": [],
   "source": [
    "def deep_model():\n",
    "    \n",
    "    '''Build model with 2 hidden layers'''\n",
    "    \n",
    "    model = Sequential()\n",
    "    model.add(Dense(units=input_dim * 4, activation='relu', input_dim=input_dim))\n",
    "    model.add(Dense(units=input_dim * 2, activation='relu'))\n",
    "    model.add(Dense(units=input_dim, activation='relu'))\n",
    "    model.add(Dense(units=1))  # 1 output\n",
    "    \n",
    "    # compile with mean-squared error loss function\n",
    "    model.compile(loss='mean_squared_error',\n",
    "                 optimizer='adam',\n",
    "                 metrics=['mse'])\n",
    "    return model"
   ]
  },
  {
   "cell_type": "markdown",
   "metadata": {},
   "source": [
    "## Predictions"
   ]
  },
  {
   "cell_type": "code",
   "execution_count": 21,
   "metadata": {},
   "outputs": [],
   "source": [
    "# blank dict for predictions\n",
    "predictions = {}\n",
    "\n",
    "# load in pipeline\n",
    "pipeline = joblib.load('nn_reg_pipeline.pkl')\n",
    "\n",
    "# set model for pipeline as mpls neural net regression model\n",
    "pipeline.named_steps['estimator'].model = load_model('mpls_nn_reg.h5')\n",
    "\n",
    "# store predictions\n",
    "predictions['mpls'] = pipeline.predict(forcast_data)\n",
    "\n",
    "# set model for pipeline as OLG neural net regression model\n",
    "pipeline.named_steps['estimator'].model = load_model('olg_nn_reg.h5')\n",
    "\n",
    "# store predictions\n",
    "predictions['olg'] = pipeline.predict(forcast_data)\n",
    "\n",
    "# sum predictions and multiply by 3 (weather forcast every 3 hours), divide 1000 (use kW instead of Watts)\n",
    "olg_5_day = predictions['olg'].sum() * 3 / 1000\n",
    "mpls_5_day = predictions['mpls'].sum() * 3 / 1000"
   ]
  },
  {
   "cell_type": "code",
   "execution_count": 23,
   "metadata": {},
   "outputs": [
    {
     "name": "stdout",
     "output_type": "stream",
     "text": [
      "5-day Solar Power Predictions:\n",
      "  Ogilvie: 2008.9965 kW\n",
      "  Minneapolis: 109.7003671875 kW\n"
     ]
    }
   ],
   "source": [
    "# Print results\n",
    "print(\"5-day Solar Power Predictions:\")\n",
    "print(f'  Ogilvie: {olg_5_day} kW')\n",
    "print(f'  Minneapolis: {mpls_5_day} kW')"
   ]
  },
  {
   "cell_type": "code",
   "execution_count": null,
   "metadata": {},
   "outputs": [],
   "source": []
  }
 ],
 "metadata": {
  "kernelspec": {
   "display_name": "Python 3",
   "language": "python",
   "name": "python3"
  },
  "language_info": {
   "codemirror_mode": {
    "name": "ipython",
    "version": 3
   },
   "file_extension": ".py",
   "mimetype": "text/x-python",
   "name": "python",
   "nbconvert_exporter": "python",
   "pygments_lexer": "ipython3",
   "version": "3.7.3"
  }
 },
 "nbformat": 4,
 "nbformat_minor": 2
}
