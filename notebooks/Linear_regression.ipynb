{
 "cells": [
  {
   "cell_type": "markdown",
   "metadata": {},
   "source": [
    "# Linear Regression Model"
   ]
  },
  {
   "cell_type": "code",
   "execution_count": 1,
   "metadata": {
    "colab": {},
    "colab_type": "code",
    "id": "AxlfcRzyNDG7"
   },
   "outputs": [
    {
     "name": "stderr",
     "output_type": "stream",
     "text": [
      "/home/alvern/anaconda3/lib/python3.7/site-packages/sklearn/externals/joblib/__init__.py:15: DeprecationWarning: sklearn.externals.joblib is deprecated in 0.21 and will be removed in 0.23. Please import this functionality directly from joblib, which can be installed with: pip install joblib. If this warning is raised when loading pickled models, you may need to re-serialize those models with scikit-learn 0.21+.\n",
      "  warnings.warn(msg, category=DeprecationWarning)\n"
     ]
    }
   ],
   "source": [
    "import warnings\n",
    "import sys\n",
    "warnings.simplefilter('ignore')\n",
    "\n",
    "%matplotlib inline\n",
    "import matplotlib.pyplot as plt\n",
    "import numpy as np\n",
    "import pandas as pd\n",
    "from sklearn.model_selection import train_test_split\n",
    "from sklearn.preprocessing import StandardScaler\n",
    "from sklearn.linear_model import LinearRegression\n",
    "from sklearn.metrics import mean_squared_error\n",
    "from sklearn.externals import joblib"
   ]
  },
  {
   "cell_type": "code",
   "execution_count": 2,
   "metadata": {
    "colab": {
     "base_uri": "https://localhost:8080/",
     "height": 224
    },
    "colab_type": "code",
    "id": "OE3JeLBeNDHA",
    "outputId": "b0f067a5-3ffa-4695-a8e9-9a92946eb045",
    "scrolled": true
   },
   "outputs": [],
   "source": [
    "# read in files as dfs\n",
    "mpls_df = pd.read_csv('resources/mpls_solar_weather.csv')\n",
    "olg_df = pd.read_csv('resources/olg_solar_weather.csv')\n",
    "\n",
    "\n",
    "features = [\n",
    "    'clouds_all', 'temp_f', 'pressure', 'humidity', 'wind_speed', 'wind_deg', 'hour', 'day_of_year',\n",
    "    'month', 'sin_day', 'cos_day', 'sin_hour', 'cos_hour', 'sin_month', 'cos_month', 'dl_sec'\n",
    "]\n",
    "\n",
    "# parameter to predict\n",
    "target = 'power_delivered'\n",
    "\n",
    "# get input dimensions\n",
    "input_dim = len(features)"
   ]
  },
  {
   "cell_type": "code",
   "execution_count": 3,
   "metadata": {
    "colab": {},
    "colab_type": "code",
    "id": "_-1VR_wUNDHE"
   },
   "outputs": [],
   "source": [
    "def get_features_target(df):\n",
    "    '''Takes in df and returns features and target dataframes for training and validation.'''\n",
    "    X = df[features].copy()\n",
    "    y = df[target].copy()\n",
    "    \n",
    "    return X, y"
   ]
  },
  {
   "cell_type": "code",
   "execution_count": 4,
   "metadata": {
    "colab": {
     "base_uri": "https://localhost:8080/",
     "height": 55
    },
    "colab_type": "code",
    "id": "GNsTIWV8NDHH",
    "outputId": "cc50b8d9-0719-4f08-8206-7a04551ca573"
   },
   "outputs": [
    {
     "name": "stdout",
     "output_type": "stream",
     "text": [
      "                 date_time  power_delivered  energy_delivered  \\\n",
      "0      2017-05-26 15:00:00              445               111   \n",
      "1      2017-05-26 16:00:00             2280               570   \n",
      "2      2017-05-26 17:00:00             4186              1047   \n",
      "3      2017-05-26 18:00:00             4283              1071   \n",
      "4      2017-05-26 19:00:00             4043              1011   \n",
      "...                    ...              ...               ...   \n",
      "19854  2019-09-02 14:00:00             3461               865   \n",
      "19855  2019-09-02 15:00:00             3061               765   \n",
      "19856  2019-09-02 16:00:00             1959               490   \n",
      "19857  2019-09-02 17:00:00              692               173   \n",
      "19858  2019-09-02 18:00:00              258                65   \n",
      "\n",
      "       cumulative_energy weather_description  clouds_all  temp_f  pressure  \\\n",
      "0                    111        sky is clear           1  76.316      1007   \n",
      "1                    681    scattered clouds          40  77.000      1007   \n",
      "2                   1728    scattered clouds          40  76.874      1006   \n",
      "3                   2799        sky is clear           1  76.226      1007   \n",
      "4                   3809        sky is clear           1  74.642      1008   \n",
      "...                  ...                 ...         ...     ...       ...   \n",
      "19854            3226456           clear sky           1  74.120      1018   \n",
      "19855            3227221    scattered clouds          40  74.588      1017   \n",
      "19856            3227711    scattered clouds          40  74.750      1016   \n",
      "19857            3227884    scattered clouds          40  73.832      1015   \n",
      "19858            3227948    scattered clouds          40  72.590      1014   \n",
      "\n",
      "       humidity  wind_speed  ...  day_of_year  month   sin_day   cos_day  \\\n",
      "0            41           4  ...          146      5  0.587785 -0.809017   \n",
      "1            38           4  ...          146      5  0.587785 -0.809017   \n",
      "2            36           5  ...          146      5  0.587785 -0.809017   \n",
      "3            36           4  ...          146      5  0.587785 -0.809017   \n",
      "4            40           3  ...          146      5  0.587785 -0.809017   \n",
      "...         ...         ...  ...          ...    ...       ...       ...   \n",
      "19854        64           3  ...          245      9 -0.880012 -0.474951   \n",
      "19855        57           3  ...          245      9 -0.880012 -0.474951   \n",
      "19856        60           2  ...          245      9 -0.880012 -0.474951   \n",
      "19857        64           4  ...          245      9 -0.880012 -0.474951   \n",
      "19858        64           2  ...          245      9 -0.880012 -0.474951   \n",
      "\n",
      "       sin_hour      cos_hour  sin_month     cos_month  daylength  dl_sec  \n",
      "0     -0.707107 -7.071068e-01        0.5 -8.660254e-01   15:15:04   54904  \n",
      "1     -0.866025 -5.000000e-01        0.5 -8.660254e-01   15:15:04   54904  \n",
      "2     -0.965926 -2.588190e-01        0.5 -8.660254e-01   15:15:04   54904  \n",
      "3     -1.000000 -1.836970e-16        0.5 -8.660254e-01   15:15:04   54904  \n",
      "4     -0.965926  2.588190e-01        0.5 -8.660254e-01   15:15:04   54904  \n",
      "...         ...           ...        ...           ...        ...     ...  \n",
      "19854 -0.500000 -8.660254e-01       -1.0 -1.836970e-16   13:11:23   47483  \n",
      "19855 -0.707107 -7.071068e-01       -1.0 -1.836970e-16   13:11:23   47483  \n",
      "19856 -0.866025 -5.000000e-01       -1.0 -1.836970e-16   13:11:23   47483  \n",
      "19857 -0.965926 -2.588190e-01       -1.0 -1.836970e-16   13:11:23   47483  \n",
      "19858 -1.000000 -1.836970e-16       -1.0 -1.836970e-16   13:11:23   47483  \n",
      "\n",
      "[19859 rows x 25 columns]\n",
      "mpls  MSE: 0.39362499607236634, R2: 0.5966234922003943\n",
      "                date_time  power_delivered  energy_delivered  \\\n",
      "0     2019-04-21 13:00:00            14361             57444   \n",
      "1     2019-04-21 14:00:00            18645             74580   \n",
      "2     2019-04-21 15:00:00            18006             72024   \n",
      "3     2019-04-21 16:00:00            15888             63552   \n",
      "4     2019-04-21 17:00:00            11499             45996   \n",
      "...                   ...              ...               ...   \n",
      "2577  2019-08-06 23:00:00                0                 0   \n",
      "2578  2019-08-07 00:00:00                0                 0   \n",
      "2579  2019-08-07 01:00:00                0                 0   \n",
      "2580  2019-08-07 02:00:00                0                 0   \n",
      "2581  2019-08-07 03:00:00                0                 0   \n",
      "\n",
      "      cumulative_energy weather_description  clouds_all  temp_f  pressure  \\\n",
      "0                 22937       broken clouds          75  71.420      1009   \n",
      "1                 41582        sky is clear           1  72.644      1008   \n",
      "2                 59588       broken clouds          75  72.572      1009   \n",
      "3                 75476       broken clouds          75  71.456      1009   \n",
      "4                 86975        sky is clear           1  68.756      1008   \n",
      "...                 ...                 ...         ...     ...       ...   \n",
      "2577           13422159     overcast clouds          90  70.052      1009   \n",
      "2578           13422159     overcast clouds          90  69.926      1009   \n",
      "2579           13422159    scattered clouds          40  69.296      1009   \n",
      "2580           13422159           clear sky           1  68.288      1008   \n",
      "2581           13422159    scattered clouds          40  68.414      1009   \n",
      "\n",
      "      humidity  wind_speed  ...  day_of_year  month   sin_day   cos_day  \\\n",
      "0           37           4  ...          111      4  0.942761 -0.333469   \n",
      "1           38           2  ...          111      4  0.942761 -0.333469   \n",
      "2           35           4  ...          111      4  0.942761 -0.333469   \n",
      "3           40           6  ...          111      4  0.942761 -0.333469   \n",
      "4           33           5  ...          111      4  0.942761 -0.333469   \n",
      "...        ...         ...  ...          ...    ...       ...       ...   \n",
      "2577        64           3  ...          218      8 -0.573772 -0.819015   \n",
      "2578        69           2  ...          219      8 -0.587785 -0.809017   \n",
      "2579        69           2  ...          219      8 -0.587785 -0.809017   \n",
      "2580        77           2  ...          219      8 -0.587785 -0.809017   \n",
      "2581        73           2  ...          219      8 -0.587785 -0.809017   \n",
      "\n",
      "      sin_hour  cos_hour  sin_month  cos_month  daylength  dl_sec  \n",
      "0    -0.258819 -0.965926   0.866025       -0.5   13:52:22   49942  \n",
      "1    -0.500000 -0.866025   0.866025       -0.5   13:52:22   49942  \n",
      "2    -0.707107 -0.707107   0.866025       -0.5   13:52:22   49942  \n",
      "3    -0.866025 -0.500000   0.866025       -0.5   13:52:22   49942  \n",
      "4    -0.965926 -0.258819   0.866025       -0.5   13:52:22   49942  \n",
      "...        ...       ...        ...        ...        ...     ...  \n",
      "2577 -0.258819  0.965926  -0.866025       -0.5   14:32:33   52353  \n",
      "2578  0.000000  1.000000  -0.866025       -0.5   14:29:53   52193  \n",
      "2579  0.258819  0.965926  -0.866025       -0.5   14:29:53   52193  \n",
      "2580  0.500000  0.866025  -0.866025       -0.5   14:29:53   52193  \n",
      "2581  0.707107  0.707107  -0.866025       -0.5   14:29:53   52193  \n",
      "\n",
      "[2582 rows x 25 columns]\n",
      "olg  MSE: 0.251546261483711, R2: 0.7377352581532926\n"
     ]
    }
   ],
   "source": [
    "# dict of solar datasets to loop over\n",
    "dfs_dict = {'mpls': mpls_df,\n",
    "       'olg': olg_df}\n",
    "\n",
    "# perform cross validation on datasets\n",
    "for key in dfs_dict:\n",
    "    # get features and target\n",
    "    print(dfs_dict[key])\n",
    "    X, y = get_features_target(dfs_dict[key])\n",
    "    y = y.values.reshape(-1,1)\n",
    "    X_train, X_test, y_train, y_test = train_test_split(X, y, random_state=42)\n",
    "    X_scaler = StandardScaler().fit(X_train)\n",
    "    y_scaler = StandardScaler().fit(y_train)\n",
    "    X_train_scaled = X_scaler.transform(X_train)\n",
    "    X_test_scaled = X_scaler.transform(X_test)\n",
    "    y_train_scaled = y_scaler.transform(y_train)\n",
    "    y_test_scaled = y_scaler.transform(y_test)\n",
    "    model = LinearRegression()\n",
    "    model.fit(X_train_scaled, y_train_scaled)\n",
    "    predictions = model.predict(X_test_scaled)\n",
    "    MSE = mean_squared_error(y_test_scaled, predictions)\n",
    "    r2 = model.score(X_test_scaled, y_test_scaled)\n",
    "    joblib.dump(model, f'{key}_linear.dat')\n",
    "    print(f\"{key}  MSE: {MSE}, R2: {r2}\")"
   ]
  },
  {
   "cell_type": "code",
   "execution_count": null,
   "metadata": {},
   "outputs": [],
   "source": []
  }
 ],
 "metadata": {
  "colab": {
   "collapsed_sections": [],
   "name": "Linear_loop.ipynb",
   "provenance": []
  },
  "kernelspec": {
   "display_name": "Python 3",
   "language": "python",
   "name": "python3"
  },
  "language_info": {
   "codemirror_mode": {
    "name": "ipython",
    "version": 3
   },
   "file_extension": ".py",
   "mimetype": "text/x-python",
   "name": "python",
   "nbconvert_exporter": "python",
   "pygments_lexer": "ipython3",
   "version": "3.7.3"
  }
 },
 "nbformat": 4,
 "nbformat_minor": 1
}
