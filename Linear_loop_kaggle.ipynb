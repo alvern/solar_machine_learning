{
 "cells": [
  {
   "cell_type": "code",
   "execution_count": 1,
   "metadata": {
    "colab": {},
    "colab_type": "code",
    "id": "AxlfcRzyNDG7"
   },
   "outputs": [],
   "source": [
    "import warnings\n",
    "warnings.simplefilter('ignore')\n",
    "\n",
    "%matplotlib inline\n",
    "import matplotlib.pyplot as plt\n",
    "import numpy as np\n",
    "import pandas as pd\n",
    "from sklearn.model_selection import train_test_split\n",
    "from sklearn.preprocessing import StandardScaler\n",
    "from sklearn.linear_model import LinearRegression\n",
    "from sklearn.metrics import mean_squared_error"
   ]
  },
  {
   "cell_type": "code",
   "execution_count": 2,
   "metadata": {
    "colab": {
     "base_uri": "https://localhost:8080/",
     "height": 224
    },
    "colab_type": "code",
    "id": "OE3JeLBeNDHA",
    "outputId": "b0f067a5-3ffa-4695-a8e9-9a92946eb045",
    "scrolled": true
   },
   "outputs": [
    {
     "data": {
      "text/html": [
       "<div>\n",
       "<style scoped>\n",
       "    .dataframe tbody tr th:only-of-type {\n",
       "        vertical-align: middle;\n",
       "    }\n",
       "\n",
       "    .dataframe tbody tr th {\n",
       "        vertical-align: top;\n",
       "    }\n",
       "\n",
       "    .dataframe thead th {\n",
       "        text-align: right;\n",
       "    }\n",
       "</style>\n",
       "<table border=\"1\" class=\"dataframe\">\n",
       "  <thead>\n",
       "    <tr style=\"text-align: right;\">\n",
       "      <th></th>\n",
       "      <th>event_id</th>\n",
       "      <th>game_session</th>\n",
       "      <th>timestamp</th>\n",
       "      <th>event_data</th>\n",
       "      <th>installation_id</th>\n",
       "      <th>event_count</th>\n",
       "      <th>event_code</th>\n",
       "      <th>game_time</th>\n",
       "      <th>title</th>\n",
       "      <th>type</th>\n",
       "      <th>world</th>\n",
       "    </tr>\n",
       "  </thead>\n",
       "  <tbody>\n",
       "    <tr>\n",
       "      <td>0</td>\n",
       "      <td>27253bdc</td>\n",
       "      <td>45bb1e1b6b50c07b</td>\n",
       "      <td>2019-09-06T17:53:46.937Z</td>\n",
       "      <td>{\"event_code\": 2000, \"event_count\": 1}</td>\n",
       "      <td>0001e90f</td>\n",
       "      <td>1</td>\n",
       "      <td>2000</td>\n",
       "      <td>0</td>\n",
       "      <td>Welcome to Lost Lagoon!</td>\n",
       "      <td>Clip</td>\n",
       "      <td>NONE</td>\n",
       "    </tr>\n",
       "    <tr>\n",
       "      <td>1</td>\n",
       "      <td>27253bdc</td>\n",
       "      <td>17eeb7f223665f53</td>\n",
       "      <td>2019-09-06T17:54:17.519Z</td>\n",
       "      <td>{\"event_code\": 2000, \"event_count\": 1}</td>\n",
       "      <td>0001e90f</td>\n",
       "      <td>1</td>\n",
       "      <td>2000</td>\n",
       "      <td>0</td>\n",
       "      <td>Magma Peak - Level 1</td>\n",
       "      <td>Clip</td>\n",
       "      <td>MAGMAPEAK</td>\n",
       "    </tr>\n",
       "    <tr>\n",
       "      <td>2</td>\n",
       "      <td>77261ab5</td>\n",
       "      <td>0848ef14a8dc6892</td>\n",
       "      <td>2019-09-06T17:54:56.302Z</td>\n",
       "      <td>{\"version\":\"1.0\",\"event_count\":1,\"game_time\":0...</td>\n",
       "      <td>0001e90f</td>\n",
       "      <td>1</td>\n",
       "      <td>2000</td>\n",
       "      <td>0</td>\n",
       "      <td>Sandcastle Builder (Activity)</td>\n",
       "      <td>Activity</td>\n",
       "      <td>MAGMAPEAK</td>\n",
       "    </tr>\n",
       "    <tr>\n",
       "      <td>3</td>\n",
       "      <td>b2dba42b</td>\n",
       "      <td>0848ef14a8dc6892</td>\n",
       "      <td>2019-09-06T17:54:56.387Z</td>\n",
       "      <td>{\"description\":\"Let's build a sandcastle! Firs...</td>\n",
       "      <td>0001e90f</td>\n",
       "      <td>2</td>\n",
       "      <td>3010</td>\n",
       "      <td>53</td>\n",
       "      <td>Sandcastle Builder (Activity)</td>\n",
       "      <td>Activity</td>\n",
       "      <td>MAGMAPEAK</td>\n",
       "    </tr>\n",
       "    <tr>\n",
       "      <td>4</td>\n",
       "      <td>1bb5fbdb</td>\n",
       "      <td>0848ef14a8dc6892</td>\n",
       "      <td>2019-09-06T17:55:03.253Z</td>\n",
       "      <td>{\"description\":\"Let's build a sandcastle! Firs...</td>\n",
       "      <td>0001e90f</td>\n",
       "      <td>3</td>\n",
       "      <td>3110</td>\n",
       "      <td>6972</td>\n",
       "      <td>Sandcastle Builder (Activity)</td>\n",
       "      <td>Activity</td>\n",
       "      <td>MAGMAPEAK</td>\n",
       "    </tr>\n",
       "  </tbody>\n",
       "</table>\n",
       "</div>"
      ],
      "text/plain": [
       "   event_id      game_session                 timestamp  \\\n",
       "0  27253bdc  45bb1e1b6b50c07b  2019-09-06T17:53:46.937Z   \n",
       "1  27253bdc  17eeb7f223665f53  2019-09-06T17:54:17.519Z   \n",
       "2  77261ab5  0848ef14a8dc6892  2019-09-06T17:54:56.302Z   \n",
       "3  b2dba42b  0848ef14a8dc6892  2019-09-06T17:54:56.387Z   \n",
       "4  1bb5fbdb  0848ef14a8dc6892  2019-09-06T17:55:03.253Z   \n",
       "\n",
       "                                          event_data installation_id  \\\n",
       "0             {\"event_code\": 2000, \"event_count\": 1}        0001e90f   \n",
       "1             {\"event_code\": 2000, \"event_count\": 1}        0001e90f   \n",
       "2  {\"version\":\"1.0\",\"event_count\":1,\"game_time\":0...        0001e90f   \n",
       "3  {\"description\":\"Let's build a sandcastle! Firs...        0001e90f   \n",
       "4  {\"description\":\"Let's build a sandcastle! Firs...        0001e90f   \n",
       "\n",
       "   event_count  event_code  game_time                          title  \\\n",
       "0            1        2000          0        Welcome to Lost Lagoon!   \n",
       "1            1        2000          0           Magma Peak - Level 1   \n",
       "2            1        2000          0  Sandcastle Builder (Activity)   \n",
       "3            2        3010         53  Sandcastle Builder (Activity)   \n",
       "4            3        3110       6972  Sandcastle Builder (Activity)   \n",
       "\n",
       "       type      world  \n",
       "0      Clip       NONE  \n",
       "1      Clip  MAGMAPEAK  \n",
       "2  Activity  MAGMAPEAK  \n",
       "3  Activity  MAGMAPEAK  \n",
       "4  Activity  MAGMAPEAK  "
      ]
     },
     "execution_count": 2,
     "metadata": {},
     "output_type": "execute_result"
    }
   ],
   "source": [
    "url = \"train.csv\"\n",
    "fiveaxis = pd.read_csv(url)\n",
    "fiveaxis = fiveaxis.fillna(0)\n",
    "fiveaxis.head()"
   ]
  },
  {
   "cell_type": "code",
   "execution_count": 3,
   "metadata": {
    "colab": {},
    "colab_type": "code",
    "id": "_-1VR_wUNDHE"
   },
   "outputs": [],
   "source": [
    "col = list(fiveaxis.columns)\n",
    "# print(col)"
   ]
  },
  {
   "cell_type": "code",
   "execution_count": 4,
   "metadata": {
    "colab": {
     "base_uri": "https://localhost:8080/",
     "height": 55
    },
    "colab_type": "code",
    "id": "GNsTIWV8NDHH",
    "outputId": "cc50b8d9-0719-4f08-8206-7a04551ca573"
   },
   "outputs": [
    {
     "name": "stdout",
     "output_type": "stream",
     "text": [
      "['event_id', 'game_session', 'timestamp', 'event_data', 'installation_id', 'event_count', 'event_code', 'game_time', 'title', 'type', 'world']\n"
     ]
    }
   ],
   "source": [
    "print(col)"
   ]
  },
  {
   "cell_type": "code",
   "execution_count": 7,
   "metadata": {
    "colab": {},
    "colab_type": "code",
    "id": "NxfdMghMNDHK"
   },
   "outputs": [],
   "source": [
    "col = ['event_count', 'event_code', 'game_time']"
   ]
  },
  {
   "cell_type": "code",
   "execution_count": 8,
   "metadata": {
    "colab": {},
    "colab_type": "code",
    "id": "l80LyM3gNDHO",
    "outputId": "d46d245b-3b51-4f47-ccdb-8b5ecfc3899e"
   },
   "outputs": [
    {
     "data": {
      "text/html": [
       "<div>\n",
       "<style scoped>\n",
       "    .dataframe tbody tr th:only-of-type {\n",
       "        vertical-align: middle;\n",
       "    }\n",
       "\n",
       "    .dataframe tbody tr th {\n",
       "        vertical-align: top;\n",
       "    }\n",
       "\n",
       "    .dataframe thead th {\n",
       "        text-align: right;\n",
       "    }\n",
       "</style>\n",
       "<table border=\"1\" class=\"dataframe\">\n",
       "  <thead>\n",
       "    <tr style=\"text-align: right;\">\n",
       "      <th></th>\n",
       "      <th>event_count</th>\n",
       "      <th>event_code</th>\n",
       "      <th>game_time</th>\n",
       "    </tr>\n",
       "  </thead>\n",
       "  <tbody>\n",
       "    <tr>\n",
       "      <td>count</td>\n",
       "      <td>1.134104e+07</td>\n",
       "      <td>1.134104e+07</td>\n",
       "      <td>1.134104e+07</td>\n",
       "    </tr>\n",
       "    <tr>\n",
       "      <td>mean</td>\n",
       "      <td>1.056642e+02</td>\n",
       "      <td>3.513838e+03</td>\n",
       "      <td>1.976236e+05</td>\n",
       "    </tr>\n",
       "    <tr>\n",
       "      <td>std</td>\n",
       "      <td>1.483477e+02</td>\n",
       "      <td>6.816470e+02</td>\n",
       "      <td>1.803968e+06</td>\n",
       "    </tr>\n",
       "    <tr>\n",
       "      <td>min</td>\n",
       "      <td>1.000000e+00</td>\n",
       "      <td>2.000000e+03</td>\n",
       "      <td>0.000000e+00</td>\n",
       "    </tr>\n",
       "    <tr>\n",
       "      <td>25%</td>\n",
       "      <td>2.500000e+01</td>\n",
       "      <td>3.021000e+03</td>\n",
       "      <td>3.061800e+04</td>\n",
       "    </tr>\n",
       "    <tr>\n",
       "      <td>50%</td>\n",
       "      <td>6.100000e+01</td>\n",
       "      <td>4.020000e+03</td>\n",
       "      <td>7.276100e+04</td>\n",
       "    </tr>\n",
       "    <tr>\n",
       "      <td>75%</td>\n",
       "      <td>1.290000e+02</td>\n",
       "      <td>4.035000e+03</td>\n",
       "      <td>1.574460e+05</td>\n",
       "    </tr>\n",
       "    <tr>\n",
       "      <td>max</td>\n",
       "      <td>3.368000e+03</td>\n",
       "      <td>5.010000e+03</td>\n",
       "      <td>3.069102e+08</td>\n",
       "    </tr>\n",
       "  </tbody>\n",
       "</table>\n",
       "</div>"
      ],
      "text/plain": [
       "        event_count    event_code     game_time\n",
       "count  1.134104e+07  1.134104e+07  1.134104e+07\n",
       "mean   1.056642e+02  3.513838e+03  1.976236e+05\n",
       "std    1.483477e+02  6.816470e+02  1.803968e+06\n",
       "min    1.000000e+00  2.000000e+03  0.000000e+00\n",
       "25%    2.500000e+01  3.021000e+03  3.061800e+04\n",
       "50%    6.100000e+01  4.020000e+03  7.276100e+04\n",
       "75%    1.290000e+02  4.035000e+03  1.574460e+05\n",
       "max    3.368000e+03  5.010000e+03  3.069102e+08"
      ]
     },
     "execution_count": 8,
     "metadata": {},
     "output_type": "execute_result"
    }
   ],
   "source": [
    "fiveaxis.describe()"
   ]
  },
  {
   "cell_type": "code",
   "execution_count": 9,
   "metadata": {
    "colab": {
     "base_uri": "https://localhost:8080/",
     "height": 863
    },
    "colab_type": "code",
    "id": "yW6M7mZsNDHR",
    "outputId": "70296903-be72-4f41-bad9-ea14d025c08e"
   },
   "outputs": [
    {
     "name": "stdout",
     "output_type": "stream",
     "text": [
      "event_count, MSE: 0.9797842611195003, R2: 0.021255920772282333\n",
      "event_code, MSE: 0.9985909712713288, R2: 0.0019940399299563927\n",
      "game_time, MSE: 1.0268315833343322, R2: 0.01939224802907802\n"
     ]
    }
   ],
   "source": [
    "j = 0\n",
    "relationships = []\n",
    "for i in col:\n",
    "    current = i\n",
    "#     newlist = col\n",
    "    newlist = list(filter(lambda x: x != i, col))\n",
    "#     print(current)\n",
    "#     print(newlist)\n",
    "#     print(j)\n",
    "    j = j + 1\n",
    "    X = fiveaxis[newlist]\n",
    "    y = fiveaxis[current].values.reshape(-1,1)\n",
    "    X_train, X_test, y_train, y_test = train_test_split(X, y, random_state=42)\n",
    "    X_scaler = StandardScaler().fit(X_train)\n",
    "    y_scaler = StandardScaler().fit(y_train)\n",
    "    X_train_scaled = X_scaler.transform(X_train)\n",
    "    X_test_scaled = X_scaler.transform(X_test)\n",
    "    y_train_scaled = y_scaler.transform(y_train)\n",
    "    y_test_scaled = y_scaler.transform(y_test)\n",
    "    model = LinearRegression()\n",
    "    model.fit(X_train_scaled, y_train_scaled)\n",
    "    predictions = model.predict(X_test_scaled)\n",
    "    MSE = mean_squared_error(y_test_scaled, predictions)\n",
    "    r2 = model.score(X_test_scaled, y_test_scaled)\n",
    "    if MSE != 0 and r2 != 1.0:\n",
    "      if MSE <= .1 and r2 >= .85:\n",
    "        relationships.append(current)\n",
    "    print(f\"{current}, MSE: {MSE}, R2: {r2}\")"
   ]
  },
  {
   "cell_type": "code",
   "execution_count": 11,
   "metadata": {
    "colab": {
     "base_uri": "https://localhost:8080/",
     "height": 55
    },
    "colab_type": "code",
    "id": "QWYKMesyNDHU",
    "outputId": "25a81b0d-5698-40a3-d16d-dcd7e7e7196d"
   },
   "outputs": [
    {
     "name": "stdout",
     "output_type": "stream",
     "text": [
      "['SPEED_OBD', 'GPS_LAT', 'GPS_LON', 'GPS_SPEED', 'GPS_ALT', 'ICE_RPM', 'ICE_PWR', 'TRIP_NBS', 'TRIP_EV_NBS', 'TRIP_MOV_NBS', 'TRIP_DIST', 'TRIP_EV_DIST', 'MG2_RPM', 'TRIPFUEL', 'FUELFLOWH', 'ICE_LOAD', 'INVERTER_TEMP', 'BATTERY_TEMP', 'MG1_RPM', 'MG1_TORQUE', 'ACCELERATOR', 'POSITIVEKWH', 'NEGATIVEKWH']\n"
     ]
    }
   ],
   "source": [
    "print(relationships)"
   ]
  },
  {
   "cell_type": "code",
   "execution_count": 12,
   "metadata": {
    "colab": {
     "base_uri": "https://localhost:8080/",
     "height": 469
    },
    "colab_type": "code",
    "id": "bQlsRTo7UdWv",
    "outputId": "90476637-468b-4e73-e96c-ae3f6a0f0e1a"
   },
   "outputs": [
    {
     "name": "stdout",
     "output_type": "stream",
     "text": [
      "SPEED_OBD, MSE: 0.0006779894298135499, R2: 0.9993212762774324\n",
      "GPS_LAT, MSE: 4.1304684199972716e-05, R2: 0.9999590816684373\n",
      "GPS_LON, MSE: 4.024410386445642e-05, R2: 0.9999601323952493\n",
      "GPS_SPEED, MSE: 0.04529318843871042, R2: 0.954614664065066\n",
      "GPS_ALT, MSE: 0.08748837110438797, R2: 0.9131765963082039\n",
      "ICE_RPM, MSE: 0.002088151032760418, R2: 0.9979134236957011\n",
      "ICE_PWR, MSE: 0.06236593145257947, R2: 0.937639779020593\n",
      "TRIP_NBS, MSE: 5.935888986950866e-06, R2: 0.9999940426687045\n",
      "TRIP_EV_NBS, MSE: 6.295652230903159e-06, R2: 0.9999936812805471\n",
      "TRIP_MOV_NBS, MSE: 0.00238826507959864, R2: 0.997605023765526\n",
      "TRIP_DIST, MSE: 0.030114372532944363, R2: 0.9698103793576178\n",
      "TRIP_EV_DIST, MSE: 0.028239078814097845, R2: 0.9716574320309235\n",
      "MG2_RPM, MSE: 0.00047612260441499136, R2: 0.9995233458756729\n",
      "TRIPFUEL, MSE: 0.023334901526213557, R2: 0.9773337514926386\n",
      "FUELFLOWH, MSE: 0.024412345024501167, R2: 0.9755634021508299\n",
      "ICE_LOAD, MSE: 0.1289266913844762, R2: 0.8712594193189381\n",
      "INVERTER_TEMP, MSE: 0.15009877171770244, R2: 0.8501246811666967\n",
      "BATTERY_TEMP, MSE: 0.17626990262666248, R2: 0.8241083635410252\n",
      "MG1_RPM, MSE: 0.007337313178440839, R2: 0.9926726940538119\n",
      "MG1_TORQUE, MSE: 0.06581335716335272, R2: 0.9342514827330206\n",
      "ACCELERATOR, MSE: 0.13253052049411315, R2: 0.8680283223279313\n",
      "POSITIVEKWH, MSE: 0.02335056630565048, R2: 0.9773397986559309\n",
      "NEGATIVEKWH, MSE: 0.14972252611486078, R2: 0.848904094552327\n",
      "['SPEED_OBD', 'GPS_LAT', 'GPS_LON', 'GPS_SPEED', 'GPS_ALT', 'ICE_RPM', 'ICE_PWR', 'TRIP_NBS', 'TRIP_EV_NBS', 'TRIP_MOV_NBS', 'TRIP_DIST', 'TRIP_EV_DIST', 'MG2_RPM', 'TRIPFUEL', 'FUELFLOWH', 'MG1_RPM', 'MG1_TORQUE', 'POSITIVEKWH']\n"
     ]
    }
   ],
   "source": [
    "j = 0\n",
    "final = []\n",
    "for i in relationships:\n",
    "    current = i\n",
    "#     newlist = col\n",
    "    newlist = list(filter(lambda x: x != i, relationships))\n",
    "#     print(current)\n",
    "#     print(newlist)\n",
    "#     print(j)\n",
    "    j = j + 1\n",
    "    X = fiveaxis[newlist]\n",
    "    y = fiveaxis[current].values.reshape(-1,1)\n",
    "    X_train, X_test, y_train, y_test = train_test_split(X, y, random_state=42)\n",
    "    X_scaler = StandardScaler().fit(X_train)\n",
    "    y_scaler = StandardScaler().fit(y_train)\n",
    "    X_train_scaled = X_scaler.transform(X_train)\n",
    "    X_test_scaled = X_scaler.transform(X_test)\n",
    "    y_train_scaled = y_scaler.transform(y_train)\n",
    "    y_test_scaled = y_scaler.transform(y_test)\n",
    "    model = LinearRegression()\n",
    "    model.fit(X_train_scaled, y_train_scaled)\n",
    "    predictions = model.predict(X_test_scaled)\n",
    "    MSE = mean_squared_error(y_test_scaled, predictions)\n",
    "    r2 = model.score(X_test_scaled, y_test_scaled)\n",
    "    if MSE != 0 and r2 != 1.0:\n",
    "      if MSE <= .1 and r2 >= .85:\n",
    "        final.append(current)\n",
    "    print(f\"{current}, MSE: {MSE}, R2: {r2}\")\n",
    "print(final)"
   ]
  }
 ],
 "metadata": {
  "colab": {
   "collapsed_sections": [],
   "name": "Linear_loop.ipynb",
   "provenance": []
  },
  "kernelspec": {
   "display_name": "Python 3",
   "language": "python",
   "name": "python3"
  },
  "language_info": {
   "codemirror_mode": {
    "name": "ipython",
    "version": 3
   },
   "file_extension": ".py",
   "mimetype": "text/x-python",
   "name": "python",
   "nbconvert_exporter": "python",
   "pygments_lexer": "ipython3",
   "version": "3.7.3"
  }
 },
 "nbformat": 4,
 "nbformat_minor": 1
}
