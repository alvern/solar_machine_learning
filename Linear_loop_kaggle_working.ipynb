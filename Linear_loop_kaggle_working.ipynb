{
 "cells": [
  {
   "cell_type": "code",
   "execution_count": 2,
   "metadata": {
    "colab": {},
    "colab_type": "code",
    "id": "AxlfcRzyNDG7"
   },
   "outputs": [],
   "source": [
    "import warnings\n",
    "warnings.simplefilter('ignore')\n",
    "\n",
    "%matplotlib inline\n",
    "import matplotlib.pyplot as plt\n",
    "import numpy as np\n",
    "import pandas as pd\n",
    "from sklearn.model_selection import train_test_split\n",
    "from sklearn.preprocessing import StandardScaler\n",
    "from sklearn.linear_model import LinearRegression\n",
    "from sklearn.metrics import mean_squared_error"
   ]
  },
  {
   "cell_type": "code",
   "execution_count": 11,
   "metadata": {
    "colab": {
     "base_uri": "https://localhost:8080/",
     "height": 224
    },
    "colab_type": "code",
    "id": "OE3JeLBeNDHA",
    "outputId": "b0f067a5-3ffa-4695-a8e9-9a92946eb045",
    "scrolled": true
   },
   "outputs": [
    {
     "data": {
      "text/html": [
       "<div>\n",
       "<style scoped>\n",
       "    .dataframe tbody tr th:only-of-type {\n",
       "        vertical-align: middle;\n",
       "    }\n",
       "\n",
       "    .dataframe tbody tr th {\n",
       "        vertical-align: top;\n",
       "    }\n",
       "\n",
       "    .dataframe thead th {\n",
       "        text-align: right;\n",
       "    }\n",
       "</style>\n",
       "<table border=\"1\" class=\"dataframe\">\n",
       "  <thead>\n",
       "    <tr style=\"text-align: right;\">\n",
       "      <th></th>\n",
       "      <th>Unnamed: 0</th>\n",
       "      <th>date_time</th>\n",
       "      <th>power_delivered</th>\n",
       "      <th>energy_delivered</th>\n",
       "      <th>cumulative_energy</th>\n",
       "      <th>weather_description</th>\n",
       "      <th>clouds_all</th>\n",
       "      <th>temp_f</th>\n",
       "      <th>rain_1h</th>\n",
       "      <th>snow_1h</th>\n",
       "    </tr>\n",
       "  </thead>\n",
       "  <tbody>\n",
       "    <tr>\n",
       "      <td>0</td>\n",
       "      <td>0</td>\n",
       "      <td>2019-04-21 12:00:00</td>\n",
       "      <td>14892</td>\n",
       "      <td>3723</td>\n",
       "      <td>8576</td>\n",
       "      <td>light rain</td>\n",
       "      <td>1</td>\n",
       "      <td>52.718</td>\n",
       "      <td>0</td>\n",
       "      <td>0</td>\n",
       "    </tr>\n",
       "    <tr>\n",
       "      <td>1</td>\n",
       "      <td>1</td>\n",
       "      <td>2019-04-21 13:00:00</td>\n",
       "      <td>17908</td>\n",
       "      <td>4477</td>\n",
       "      <td>22937</td>\n",
       "      <td>proximity shower rain</td>\n",
       "      <td>90</td>\n",
       "      <td>52.196</td>\n",
       "      <td>1</td>\n",
       "      <td>0</td>\n",
       "    </tr>\n",
       "    <tr>\n",
       "      <td>2</td>\n",
       "      <td>2</td>\n",
       "      <td>2019-04-21 14:00:00</td>\n",
       "      <td>18784</td>\n",
       "      <td>4696</td>\n",
       "      <td>41582</td>\n",
       "      <td>moderate rain</td>\n",
       "      <td>75</td>\n",
       "      <td>53.474</td>\n",
       "      <td>1</td>\n",
       "      <td>0</td>\n",
       "    </tr>\n",
       "    <tr>\n",
       "      <td>3</td>\n",
       "      <td>3</td>\n",
       "      <td>2019-04-21 15:00:00</td>\n",
       "      <td>17464</td>\n",
       "      <td>4366</td>\n",
       "      <td>59588</td>\n",
       "      <td>light rain</td>\n",
       "      <td>40</td>\n",
       "      <td>56.768</td>\n",
       "      <td>0</td>\n",
       "      <td>0</td>\n",
       "    </tr>\n",
       "    <tr>\n",
       "      <td>4</td>\n",
       "      <td>4</td>\n",
       "      <td>2019-04-21 16:00:00</td>\n",
       "      <td>14720</td>\n",
       "      <td>3680</td>\n",
       "      <td>75476</td>\n",
       "      <td>broken clouds</td>\n",
       "      <td>75</td>\n",
       "      <td>61.466</td>\n",
       "      <td>0</td>\n",
       "      <td>0</td>\n",
       "    </tr>\n",
       "  </tbody>\n",
       "</table>\n",
       "</div>"
      ],
      "text/plain": [
       "   Unnamed: 0            date_time  power_delivered  energy_delivered  \\\n",
       "0           0  2019-04-21 12:00:00            14892              3723   \n",
       "1           1  2019-04-21 13:00:00            17908              4477   \n",
       "2           2  2019-04-21 14:00:00            18784              4696   \n",
       "3           3  2019-04-21 15:00:00            17464              4366   \n",
       "4           4  2019-04-21 16:00:00            14720              3680   \n",
       "\n",
       "   cumulative_energy    weather_description  clouds_all  temp_f  rain_1h  \\\n",
       "0               8576             light rain           1  52.718        0   \n",
       "1              22937  proximity shower rain          90  52.196        1   \n",
       "2              41582          moderate rain          75  53.474        1   \n",
       "3              59588             light rain          40  56.768        0   \n",
       "4              75476          broken clouds          75  61.466        0   \n",
       "\n",
       "   snow_1h  \n",
       "0        0  \n",
       "1        0  \n",
       "2        0  \n",
       "3        0  \n",
       "4        0  "
      ]
     },
     "execution_count": 11,
     "metadata": {},
     "output_type": "execute_result"
    }
   ],
   "source": [
    "url = \"resources/olg_solar_weather.csv\"\n",
    "fiveaxis = pd.read_csv(url)\n",
    "fiveaxis = fiveaxis.fillna(0)\n",
    "fiveaxis.head()"
   ]
  },
  {
   "cell_type": "code",
   "execution_count": 12,
   "metadata": {
    "colab": {},
    "colab_type": "code",
    "id": "_-1VR_wUNDHE"
   },
   "outputs": [],
   "source": [
    "col = list(fiveaxis.columns)\n",
    "# print(col)"
   ]
  },
  {
   "cell_type": "code",
   "execution_count": 13,
   "metadata": {
    "colab": {
     "base_uri": "https://localhost:8080/",
     "height": 55
    },
    "colab_type": "code",
    "id": "GNsTIWV8NDHH",
    "outputId": "cc50b8d9-0719-4f08-8206-7a04551ca573"
   },
   "outputs": [
    {
     "name": "stdout",
     "output_type": "stream",
     "text": [
      "['Unnamed: 0', 'date_time', 'power_delivered', 'energy_delivered', 'cumulative_energy', 'weather_description', 'clouds_all', 'temp_f', 'rain_1h', 'snow_1h']\n"
     ]
    }
   ],
   "source": [
    "print(col)"
   ]
  },
  {
   "cell_type": "code",
   "execution_count": 17,
   "metadata": {
    "colab": {},
    "colab_type": "code",
    "id": "NxfdMghMNDHK"
   },
   "outputs": [],
   "source": [
    "col = ['power_delivered', 'energy_delivered', 'cumulative_energy', 'clouds_all', 'temp_f', 'rain_1h', 'snow_1h']"
   ]
  },
  {
   "cell_type": "code",
   "execution_count": 18,
   "metadata": {
    "colab": {},
    "colab_type": "code",
    "id": "l80LyM3gNDHO",
    "outputId": "d46d245b-3b51-4f47-ccdb-8b5ecfc3899e"
   },
   "outputs": [
    {
     "data": {
      "text/html": [
       "<div>\n",
       "<style scoped>\n",
       "    .dataframe tbody tr th:only-of-type {\n",
       "        vertical-align: middle;\n",
       "    }\n",
       "\n",
       "    .dataframe tbody tr th {\n",
       "        vertical-align: top;\n",
       "    }\n",
       "\n",
       "    .dataframe thead th {\n",
       "        text-align: right;\n",
       "    }\n",
       "</style>\n",
       "<table border=\"1\" class=\"dataframe\">\n",
       "  <thead>\n",
       "    <tr style=\"text-align: right;\">\n",
       "      <th></th>\n",
       "      <th>Unnamed: 0</th>\n",
       "      <th>power_delivered</th>\n",
       "      <th>energy_delivered</th>\n",
       "      <th>cumulative_energy</th>\n",
       "      <th>clouds_all</th>\n",
       "      <th>temp_f</th>\n",
       "      <th>rain_1h</th>\n",
       "      <th>snow_1h</th>\n",
       "    </tr>\n",
       "  </thead>\n",
       "  <tbody>\n",
       "    <tr>\n",
       "      <td>count</td>\n",
       "      <td>3227.000000</td>\n",
       "      <td>3227.000000</td>\n",
       "      <td>3227.000000</td>\n",
       "      <td>3.227000e+03</td>\n",
       "      <td>3227.000000</td>\n",
       "      <td>3227.000000</td>\n",
       "      <td>3227.000000</td>\n",
       "      <td>3227.0</td>\n",
       "    </tr>\n",
       "    <tr>\n",
       "      <td>mean</td>\n",
       "      <td>1613.000000</td>\n",
       "      <td>5184.870158</td>\n",
       "      <td>1296.217540</td>\n",
       "      <td>8.207165e+06</td>\n",
       "      <td>42.156492</td>\n",
       "      <td>64.858291</td>\n",
       "      <td>0.160521</td>\n",
       "      <td>0.0</td>\n",
       "    </tr>\n",
       "    <tr>\n",
       "      <td>std</td>\n",
       "      <td>931.698986</td>\n",
       "      <td>7006.035109</td>\n",
       "      <td>1751.508777</td>\n",
       "      <td>4.952200e+06</td>\n",
       "      <td>36.925471</td>\n",
       "      <td>11.539728</td>\n",
       "      <td>0.549714</td>\n",
       "      <td>0.0</td>\n",
       "    </tr>\n",
       "    <tr>\n",
       "      <td>min</td>\n",
       "      <td>0.000000</td>\n",
       "      <td>0.000000</td>\n",
       "      <td>0.000000</td>\n",
       "      <td>8.576000e+03</td>\n",
       "      <td>0.000000</td>\n",
       "      <td>32.756000</td>\n",
       "      <td>0.000000</td>\n",
       "      <td>0.0</td>\n",
       "    </tr>\n",
       "    <tr>\n",
       "      <td>25%</td>\n",
       "      <td>806.500000</td>\n",
       "      <td>0.000000</td>\n",
       "      <td>0.000000</td>\n",
       "      <td>3.641492e+06</td>\n",
       "      <td>1.000000</td>\n",
       "      <td>57.614000</td>\n",
       "      <td>0.000000</td>\n",
       "      <td>0.0</td>\n",
       "    </tr>\n",
       "    <tr>\n",
       "      <td>50%</td>\n",
       "      <td>1613.000000</td>\n",
       "      <td>1024.000000</td>\n",
       "      <td>256.000000</td>\n",
       "      <td>8.177895e+06</td>\n",
       "      <td>40.000000</td>\n",
       "      <td>66.110000</td>\n",
       "      <td>0.000000</td>\n",
       "      <td>0.0</td>\n",
       "    </tr>\n",
       "    <tr>\n",
       "      <td>75%</td>\n",
       "      <td>2419.500000</td>\n",
       "      <td>8950.000000</td>\n",
       "      <td>2237.500000</td>\n",
       "      <td>1.243035e+07</td>\n",
       "      <td>75.000000</td>\n",
       "      <td>72.680000</td>\n",
       "      <td>0.000000</td>\n",
       "      <td>0.0</td>\n",
       "    </tr>\n",
       "    <tr>\n",
       "      <td>max</td>\n",
       "      <td>3226.000000</td>\n",
       "      <td>22292.000000</td>\n",
       "      <td>5573.000000</td>\n",
       "      <td>1.678956e+07</td>\n",
       "      <td>100.000000</td>\n",
       "      <td>92.138000</td>\n",
       "      <td>3.000000</td>\n",
       "      <td>0.0</td>\n",
       "    </tr>\n",
       "  </tbody>\n",
       "</table>\n",
       "</div>"
      ],
      "text/plain": [
       "        Unnamed: 0  power_delivered  energy_delivered  cumulative_energy  \\\n",
       "count  3227.000000      3227.000000       3227.000000       3.227000e+03   \n",
       "mean   1613.000000      5184.870158       1296.217540       8.207165e+06   \n",
       "std     931.698986      7006.035109       1751.508777       4.952200e+06   \n",
       "min       0.000000         0.000000          0.000000       8.576000e+03   \n",
       "25%     806.500000         0.000000          0.000000       3.641492e+06   \n",
       "50%    1613.000000      1024.000000        256.000000       8.177895e+06   \n",
       "75%    2419.500000      8950.000000       2237.500000       1.243035e+07   \n",
       "max    3226.000000     22292.000000       5573.000000       1.678956e+07   \n",
       "\n",
       "        clouds_all       temp_f      rain_1h  snow_1h  \n",
       "count  3227.000000  3227.000000  3227.000000   3227.0  \n",
       "mean     42.156492    64.858291     0.160521      0.0  \n",
       "std      36.925471    11.539728     0.549714      0.0  \n",
       "min       0.000000    32.756000     0.000000      0.0  \n",
       "25%       1.000000    57.614000     0.000000      0.0  \n",
       "50%      40.000000    66.110000     0.000000      0.0  \n",
       "75%      75.000000    72.680000     0.000000      0.0  \n",
       "max     100.000000    92.138000     3.000000      0.0  "
      ]
     },
     "execution_count": 18,
     "metadata": {},
     "output_type": "execute_result"
    }
   ],
   "source": [
    "fiveaxis.describe()"
   ]
  },
  {
   "cell_type": "code",
   "execution_count": 19,
   "metadata": {
    "colab": {
     "base_uri": "https://localhost:8080/",
     "height": 863
    },
    "colab_type": "code",
    "id": "yW6M7mZsNDHR",
    "outputId": "70296903-be72-4f41-bad9-ea14d025c08e"
   },
   "outputs": [
    {
     "name": "stdout",
     "output_type": "stream",
     "text": [
      "power_delivered, MSE: 8.018169639743063e-30, R2: 1.0\n",
      "energy_delivered, MSE: 8.018169639743063e-30, R2: 1.0\n",
      "cumulative_energy, MSE: 0.8153198842415921, R2: 0.29476127371540184\n",
      "clouds_all, MSE: 0.9095289128841186, R2: 0.10985117748726447\n",
      "temp_f, MSE: 0.7863970142336304, R2: 0.2989248002371676\n",
      "rain_1h, MSE: 0.8645267669849734, R2: 0.09265885012084785\n",
      "snow_1h, MSE: 0.0, R2: 1.0\n"
     ]
    }
   ],
   "source": [
    "j = 0\n",
    "relationships = []\n",
    "for i in col:\n",
    "    current = i\n",
    "#     newlist = col\n",
    "    newlist = list(filter(lambda x: x != i, col))\n",
    "#     print(current)\n",
    "#     print(newlist)\n",
    "#     print(j)\n",
    "    j = j + 1\n",
    "    X = fiveaxis[newlist]\n",
    "    y = fiveaxis[current].values.reshape(-1,1)\n",
    "    X_train, X_test, y_train, y_test = train_test_split(X, y, random_state=42)\n",
    "    X_scaler = StandardScaler().fit(X_train)\n",
    "    y_scaler = StandardScaler().fit(y_train)\n",
    "    X_train_scaled = X_scaler.transform(X_train)\n",
    "    X_test_scaled = X_scaler.transform(X_test)\n",
    "    y_train_scaled = y_scaler.transform(y_train)\n",
    "    y_test_scaled = y_scaler.transform(y_test)\n",
    "    model = LinearRegression()\n",
    "    model.fit(X_train_scaled, y_train_scaled)\n",
    "    predictions = model.predict(X_test_scaled)\n",
    "    MSE = mean_squared_error(y_test_scaled, predictions)\n",
    "    r2 = model.score(X_test_scaled, y_test_scaled)\n",
    "    if MSE != 0 and r2 != 1.0:\n",
    "      if MSE <= .1 and r2 >= .85:\n",
    "        relationships.append(current)\n",
    "    print(f\"{current}, MSE: {MSE}, R2: {r2}\")"
   ]
  },
  {
   "cell_type": "code",
   "execution_count": 20,
   "metadata": {
    "colab": {
     "base_uri": "https://localhost:8080/",
     "height": 55
    },
    "colab_type": "code",
    "id": "QWYKMesyNDHU",
    "outputId": "25a81b0d-5698-40a3-d16d-dcd7e7e7196d"
   },
   "outputs": [
    {
     "name": "stdout",
     "output_type": "stream",
     "text": [
      "[]\n"
     ]
    }
   ],
   "source": [
    "print(relationships)"
   ]
  },
  {
   "cell_type": "code",
   "execution_count": 10,
   "metadata": {
    "colab": {
     "base_uri": "https://localhost:8080/",
     "height": 469
    },
    "colab_type": "code",
    "id": "bQlsRTo7UdWv",
    "outputId": "90476637-468b-4e73-e96c-ae3f6a0f0e1a"
   },
   "outputs": [
    {
     "name": "stdout",
     "output_type": "stream",
     "text": [
      "power_delivered, MSE: 6.969392594757359e-07, R2: 0.9999992880600752\n",
      "energy_delivered, MSE: 6.969237207739401e-07, R2: 0.9999992881770877\n",
      "['power_delivered', 'energy_delivered']\n"
     ]
    }
   ],
   "source": [
    "j = 0\n",
    "final = []\n",
    "for i in relationships:\n",
    "    current = i\n",
    "#     newlist = col\n",
    "    newlist = list(filter(lambda x: x != i, relationships))\n",
    "#     print(current)\n",
    "#     print(newlist)\n",
    "#     print(j)\n",
    "    j = j + 1\n",
    "    X = fiveaxis[newlist]\n",
    "    y = fiveaxis[current].values.reshape(-1,1)\n",
    "    X_train, X_test, y_train, y_test = train_test_split(X, y, random_state=42)\n",
    "    X_scaler = StandardScaler().fit(X_train)\n",
    "    y_scaler = StandardScaler().fit(y_train)\n",
    "    X_train_scaled = X_scaler.transform(X_train)\n",
    "    X_test_scaled = X_scaler.transform(X_test)\n",
    "    y_train_scaled = y_scaler.transform(y_train)\n",
    "    y_test_scaled = y_scaler.transform(y_test)\n",
    "    model = LinearRegression()\n",
    "    model.fit(X_train_scaled, y_train_scaled)\n",
    "    predictions = model.predict(X_test_scaled)\n",
    "    MSE = mean_squared_error(y_test_scaled, predictions)\n",
    "    r2 = model.score(X_test_scaled, y_test_scaled)\n",
    "    if MSE != 0 and r2 != 1.0:\n",
    "      if MSE <= .1 and r2 >= .85:\n",
    "        final.append(current)\n",
    "    print(f\"{current}, MSE: {MSE}, R2: {r2}\")\n",
    "print(final)"
   ]
  },
  {
   "cell_type": "code",
   "execution_count": null,
   "metadata": {},
   "outputs": [],
   "source": []
  }
 ],
 "metadata": {
  "colab": {
   "collapsed_sections": [],
   "name": "Linear_loop.ipynb",
   "provenance": []
  },
  "kernelspec": {
   "display_name": "Python 3",
   "language": "python",
   "name": "python3"
  },
  "language_info": {
   "codemirror_mode": {
    "name": "ipython",
    "version": 3
   },
   "file_extension": ".py",
   "mimetype": "text/x-python",
   "name": "python",
   "nbconvert_exporter": "python",
   "pygments_lexer": "ipython3",
   "version": "3.7.3"
  }
 },
 "nbformat": 4,
 "nbformat_minor": 1
}
