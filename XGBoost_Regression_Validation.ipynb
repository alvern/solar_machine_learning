{
 "cells": [
  {
   "cell_type": "markdown",
   "metadata": {},
   "source": [
    "# Gradient Boosted Regression Model\n",
    "---"
   ]
  },
  {
   "cell_type": "code",
   "execution_count": 12,
   "metadata": {},
   "outputs": [],
   "source": [
    "# pandas, numpy, matplotlib\n",
    "import pandas as pd\n",
    "import numpy as np\n",
    "import matplotlib.pyplot as plt\n",
    "%matplotlib inline\n",
    "\n",
    "# ignore warnings\n",
    "import warnings\n",
    "warnings.filterwarnings(\"ignore\", category=FutureWarning)\n",
    "\n",
    "# xgboost regressor model\n",
    "from xgboost import XGBRegressor\n",
    "\n",
    "# sci-kit learn\n",
    "from sklearn.preprocessing import LabelEncoder, MinMaxScaler\n",
    "from sklearn.model_selection import train_test_split\n",
    "from sklearn.metrics import mean_squared_error, r2_score\n",
    "from sklearn.model_selection import KFold, cross_val_score\n",
    "from sklearn.externals import joblib"
   ]
  },
  {
   "cell_type": "markdown",
   "metadata": {},
   "source": [
    "## Data Setup"
   ]
  },
  {
   "cell_type": "code",
   "execution_count": 2,
   "metadata": {},
   "outputs": [],
   "source": [
    "# read in files as dfs\n",
    "mpls_df = pd.read_csv('resources/mpls_solar_weather.csv')\n",
    "olg_df = pd.read_csv('resources/olg_solar_weather.csv')\n",
    "\n",
    "# randomize rows in df\n",
    "mpls_df = mpls_df.sample(frac=1).reset_index(drop=True)\n",
    "olg_df = olg_df.sample(frac=1).reset_index(drop=True)\n",
    "\n",
    "# select features to train on\n",
    "features = [\n",
    "    'clouds_all', 'temp_f', 'pressure', 'humidity', 'wind_speed', 'wind_deg', 'hour', 'day_of_year',\n",
    "    'month', 'sin_day', 'cos_day', 'sin_hour', 'cos_hour', 'sin_month', 'cos_month', 'dl_sec'\n",
    "]\n",
    "\n",
    "# parameter to predict\n",
    "target = 'power_delivered'\n",
    "\n",
    "# get input dimensions\n",
    "input_dim = len(features)"
   ]
  },
  {
   "cell_type": "markdown",
   "metadata": {},
   "source": [
    "## XGBoost Regression"
   ]
  },
  {
   "cell_type": "code",
   "execution_count": 3,
   "metadata": {},
   "outputs": [],
   "source": [
    "def get_features_target(df):\n",
    "    '''Takes in df and returns features and target dataframes for training and validation.'''\n",
    "    X = df[features].copy()\n",
    "    y = df[target].copy()\n",
    "    \n",
    "    return X, y"
   ]
  },
  {
   "cell_type": "code",
   "execution_count": 4,
   "metadata": {},
   "outputs": [],
   "source": [
    "def k_fold_cv(X, y, k):\n",
    "    '''Performs k-fold cross-validation on data (X) with labels (y). Outputs array of r2 score results.'''\n",
    "    \n",
    "    kfold = KFold(n_splits=k, random_state=42)\n",
    "    results = cross_val_score(xg_reg, X, y, cv=kfold, scoring='r2', verbose=2, n_jobs=-1)\n",
    "    \n",
    "    return results"
   ]
  },
  {
   "cell_type": "code",
   "execution_count": 5,
   "metadata": {},
   "outputs": [],
   "source": [
    "def scale_data_MinMax(X):\n",
    "    '''Scales and transforms data using sklearn.preprocessing.MinMaxScaler().'''\n",
    "    \n",
    "    # fit the scaler\n",
    "    X_scaler = MinMaxScaler().fit(X)\n",
    "    # transform data\n",
    "    X_scaled = X_scaler.transform(X)\n",
    "    \n",
    "    return X_scaled"
   ]
  },
  {
   "cell_type": "code",
   "execution_count": 7,
   "metadata": {},
   "outputs": [],
   "source": [
    "# setup XGBoost Regressor model\n",
    "xg_reg = XGBRegressor(objective ='reg:squarederror', colsample_bytree = 0.3, learning_rate = 0.1,\n",
    "                max_depth = 5, alpha = 10, n_estimators = 1000)"
   ]
  },
  {
   "cell_type": "markdown",
   "metadata": {},
   "source": [
    "## 10-Fold Cross-Validation"
   ]
  },
  {
   "cell_type": "code",
   "execution_count": 8,
   "metadata": {},
   "outputs": [
    {
     "name": "stderr",
     "output_type": "stream",
     "text": [
      "C:\\Users\\Jackmarius\\Anaconda3\\lib\\site-packages\\sklearn\\preprocessing\\data.py:334: DataConversionWarning: Data with input dtype int64, float64 were all converted to float64 by MinMaxScaler.\n",
      "  return self.partial_fit(X, y)\n",
      "[Parallel(n_jobs=-1)]: Using backend LokyBackend with 4 concurrent workers.\n",
      "[Parallel(n_jobs=-1)]: Done  10 out of  10 | elapsed:  1.0min finished\n",
      "C:\\Users\\Jackmarius\\Anaconda3\\lib\\site-packages\\sklearn\\preprocessing\\data.py:334: DataConversionWarning: Data with input dtype int64, float64 were all converted to float64 by MinMaxScaler.\n",
      "  return self.partial_fit(X, y)\n",
      "[Parallel(n_jobs=-1)]: Using backend LokyBackend with 4 concurrent workers.\n",
      "[Parallel(n_jobs=-1)]: Done  10 out of  10 | elapsed:    8.3s finished\n"
     ]
    }
   ],
   "source": [
    "# dict of solar datasets to loop over\n",
    "dfs_dict = {'mpls': mpls_df,\n",
    "            'olg': olg_df}\n",
    "\n",
    "# dict to store results\n",
    "cv_results = {}\n",
    "\n",
    "# perform cross validation on datasets\n",
    "for key in dfs_dict:\n",
    "    # get features and target\n",
    "    X, y = get_features_target(dfs_dict[key])\n",
    "    \n",
    "    # scale data\n",
    "    X_scaled = scale_data_MinMax(X)\n",
    "    \n",
    "    # perform 10-fold cross-validation, store in dict\n",
    "    cv_results[key] = k_fold_cv(X_scaled, y, 10)"
   ]
  },
  {
   "cell_type": "code",
   "execution_count": 11,
   "metadata": {},
   "outputs": [
    {
     "name": "stdout",
     "output_type": "stream",
     "text": [
      "Results for mpls solar setup:\n",
      "  Model: XGBoost Regressor - Max Depth: 5, estimators: 1000\n",
      "\n",
      "10-fold cross-validation:\n",
      "  r2 score: 0.91 (0.01)\n",
      "-------------------------------------\n",
      "\n",
      "\n",
      "Results for olg solar setup:\n",
      "  Model: XGBoost Regressor - Max Depth: 5, estimators: 1000\n",
      "\n",
      "10-fold cross-validation:\n",
      "  r2 score: 0.93 (0.01)\n",
      "-------------------------------------\n",
      "\n",
      "\n"
     ]
    }
   ],
   "source": [
    "# print results for each solar setup\n",
    "for key in dfs_dict:\n",
    "    print(f\"Results for {key} solar setup:\")\n",
    "    print(f\"  Model: XGBoost Regressor - Max Depth: {xg_reg.max_depth}, estimators: {xg_reg.n_estimators}\")\n",
    "    print()\n",
    "    print(\"10-fold cross-validation:\\n  r2 score: %.2f (%.2f)\" % \\\n",
    "          (cv_results[key].mean(), cv_results[key].std()))\n",
    "    print(\"-------------------------------------\\n\\n\")"
   ]
  },
  {
   "cell_type": "markdown",
   "metadata": {},
   "source": [
    "## Model Training"
   ]
  },
  {
   "cell_type": "markdown",
   "metadata": {},
   "source": [
    "### Mpls Solar Panel"
   ]
  },
  {
   "cell_type": "markdown",
   "metadata": {},
   "source": [
    "#### Train"
   ]
  },
  {
   "cell_type": "code",
   "execution_count": 24,
   "metadata": {},
   "outputs": [
    {
     "name": "stderr",
     "output_type": "stream",
     "text": [
      "C:\\Users\\Jackmarius\\Anaconda3\\lib\\site-packages\\sklearn\\preprocessing\\data.py:334: DataConversionWarning: Data with input dtype int64, float64 were all converted to float64 by MinMaxScaler.\n",
      "  return self.partial_fit(X, y)\n"
     ]
    },
    {
     "name": "stdout",
     "output_type": "stream",
     "text": [
      "Saved model to \"mpls_xg_reg.joblib.dat\"\n"
     ]
    }
   ],
   "source": [
    "# mpls data:\n",
    "X, y = get_features_target(mpls_df)   # get data\n",
    "X_scaled = scale_data_MinMax(X)   # scale data\n",
    "xg_reg.fit(X_scaled, y)     # train model\n",
    "\n",
    "# save model\n",
    "joblib.dump(xg_reg, 'mpls_xg_reg.joblib.dat')\n",
    "print('Saved model to \"mpls_xg_reg.joblib.dat\"')"
   ]
  },
  {
   "cell_type": "markdown",
   "metadata": {},
   "source": [
    "#### Plot Feature Importances"
   ]
  },
  {
   "cell_type": "code",
   "execution_count": 25,
   "metadata": {},
   "outputs": [
    {
     "data": {
      "image/png": "[encoded data removed]",
      "text/plain": [
       "<Figure size 432x288 with 1 Axes>"
      ]
     },
     "metadata": {
      "needs_background": "light"
     },
     "output_type": "display_data"
    }
   ],
   "source": [
    "features_df = pd.DataFrame(features, xg_reg.feature_importances_).reset_index()\n",
    "\n",
    "features_df.columns = ['feature', 'importance']\n",
    "\n",
    "features_df = features_df.sort_values('feature', ascending=True).reset_index()\n",
    "\n",
    "plot_mpls = features_df.plot('importance', 'feature', kind='barh')"
   ]
  },
  {
   "cell_type": "markdown",
   "metadata": {},
   "source": [
    "### Ogilvie Solar Panel"
   ]
  },
  {
   "cell_type": "markdown",
   "metadata": {},
   "source": [
    "#### Train Model"
   ]
  },
  {
   "cell_type": "code",
   "execution_count": 26,
   "metadata": {},
   "outputs": [
    {
     "name": "stderr",
     "output_type": "stream",
     "text": [
      "C:\\Users\\Jackmarius\\Anaconda3\\lib\\site-packages\\sklearn\\preprocessing\\data.py:334: DataConversionWarning: Data with input dtype int64, float64 were all converted to float64 by MinMaxScaler.\n",
      "  return self.partial_fit(X, y)\n"
     ]
    },
    {
     "name": "stdout",
     "output_type": "stream",
     "text": [
      "Saved model to \"olg_xg_reg.joblib.dat\"\n"
     ]
    }
   ],
   "source": [
    "# olg data:\n",
    "X, y = get_features_target(olg_df)   # get data\n",
    "X_scaled = scale_data_MinMax(X)   # scale data\n",
    "xg_reg.fit(X_scaled, y)     # train model\n",
    "\n",
    "# save model\n",
    "joblib.dump(xg_reg, 'olg_xg_reg.joblib.dat')\n",
    "print('Saved model to \"olg_xg_reg.joblib.dat\"')"
   ]
  },
  {
   "cell_type": "markdown",
   "metadata": {},
   "source": [
    "#### Plot Feature Importances"
   ]
  },
  {
   "cell_type": "code",
   "execution_count": 27,
   "metadata": {},
   "outputs": [
    {
     "data": {
      "image/png": "[encoded data removed]",
      "text/plain": [
       "<Figure size 432x288 with 1 Axes>"
      ]
     },
     "metadata": {
      "needs_background": "light"
     },
     "output_type": "display_data"
    }
   ],
   "source": [
    "features_df = pd.DataFrame(features, xg_reg.feature_importances_).reset_index()\n",
    "\n",
    "features_df.columns = ['feature', 'importance']\n",
    "\n",
    "features_df = features_df.sort_values('feature', ascending=True).reset_index()\n",
    "\n",
    "plot_olg = features_df.plot('importance', 'feature', kind='barh')"
   ]
  },
  {
   "cell_type": "code",
   "execution_count": null,
   "metadata": {},
   "outputs": [],
   "source": []
  }
 ],
 "metadata": {
  "kernelspec": {
   "display_name": "Python 3",
   "language": "python",
   "name": "python3"
  },
  "language_info": {
   "codemirror_mode": {
    "name": "ipython",
    "version": 3
   },
   "file_extension": ".py",
   "mimetype": "text/x-python",
   "name": "python",
   "nbconvert_exporter": "python",
   "pygments_lexer": "ipython3",
   "version": "3.7.3"
  }
 },
 "nbformat": 4,
 "nbformat_minor": 2
}
